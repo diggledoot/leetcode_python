{
 "cells": [
  {
   "cell_type": "code",
   "execution_count": 7,
   "metadata": {},
   "outputs": [
    {
     "name": "stdout",
     "output_type": "stream",
     "text": [
      "c\n"
     ]
    }
   ],
   "source": [
    "string = \"jtiyoLaqlFgVamXzhubHsSKWxenDkRpPvNfBwZCcdrUQkEIMGnO\" #expect j\n",
    "string = \"aacbb\"\n",
    "\n",
    "def get_first_unique_char(string):\n",
    "    \n",
    "    if string == \"\":\n",
    "        return \"\"\n",
    "    \n",
    "    res = None\n",
    "    for char in string:\n",
    "        if res == None:\n",
    "            res = char\n",
    "            continue\n",
    "        if res == char and res is not None:\n",
    "            res = None\n",
    "    return res\n",
    "\n",
    "print(get_first_unique_char(string))"
   ]
  },
  {
   "cell_type": "code",
   "execution_count": 6,
   "metadata": {},
   "outputs": [
    {
     "name": "stdout",
     "output_type": "stream",
     "text": [
      "[1, 2, 5, 43, 345]\n"
     ]
    }
   ],
   "source": [
    "a = [5,43,1]\n",
    "b = [345,2,1]\n",
    "c = a+b\n",
    "c.sort()\n",
    "res = []\n",
    "for num in c:\n",
    "    if num not in res:\n",
    "        res.append(num)\n",
    "print(res)"
   ]
  },
  {
   "cell_type": "code",
   "execution_count": 1,
   "metadata": {},
   "outputs": [
    {
     "name": "stdout",
     "output_type": "stream",
     "text": [
      "1\n"
     ]
    }
   ],
   "source": [
    "#Array\n",
    "arr = [1,2,3]\n",
    "print(arr[0])"
   ]
  },
  {
   "cell_type": "code",
   "execution_count": 7,
   "metadata": {},
   "outputs": [
    {
     "name": "stdout",
     "output_type": "stream",
     "text": [
      "5\n"
     ]
    }
   ],
   "source": [
    "#Stack\n",
    "#filo\n",
    "arr = [1,2,3]\n",
    "arr.append(4)\n",
    "arr.append(5)\n",
    "\n",
    "print(arr.pop())"
   ]
  },
  {
   "cell_type": "code",
   "execution_count": 4,
   "metadata": {},
   "outputs": [
    {
     "name": "stdout",
     "output_type": "stream",
     "text": [
      "1\n",
      "2\n",
      "[3, 4, 5, 6]\n"
     ]
    }
   ],
   "source": [
    "#queue\n",
    "#fifo\n",
    "arr = [1,2,3,4]\n",
    "arr.append(5)\n",
    "arr.append(6)\n",
    "print(arr.pop(0))\n",
    "print(arr.pop(0))\n",
    "print(arr)"
   ]
  },
  {
   "cell_type": "code",
   "execution_count": 5,
   "metadata": {},
   "outputs": [
    {
     "name": "stdout",
     "output_type": "stream",
     "text": [
      "{1: 1, 2: 2}\n"
     ]
    }
   ],
   "source": [
    "#hashmap\n",
    "dic = {}\n",
    "dic[1]=1\n",
    "dic[2]=2\n",
    "print(dic)"
   ]
  },
  {
   "cell_type": "code",
   "execution_count": 8,
   "metadata": {},
   "outputs": [
    {
     "name": "stdout",
     "output_type": "stream",
     "text": [
      "2\n",
      "1\n",
      "3\n",
      "None\n"
     ]
    }
   ],
   "source": [
    "#tree\n",
    "\n",
    "class TNode:\n",
    "    def __init__(self, val)->None:\n",
    "        self.val = val\n",
    "        self.left = None\n",
    "        self.right = None\n",
    "\n",
    "root = TNode(1)\n",
    "root.left = TNode(2)\n",
    "root.right = TNode(3)\n",
    "\n",
    "def in_order(node):\n",
    "    if node:\n",
    "        in_order(node.left)\n",
    "        print(node.val)\n",
    "        in_order(node.right)\n",
    "\n",
    "print(in_order(root))"
   ]
  },
  {
   "cell_type": "code",
   "execution_count": 11,
   "metadata": {},
   "outputs": [
    {
     "name": "stdout",
     "output_type": "stream",
     "text": [
      "1\n",
      "2\n"
     ]
    }
   ],
   "source": [
    "#singly linked list\n",
    "class ListNode:\n",
    "    def __init__(self, val) -> None:\n",
    "        self.val = val\n",
    "        self.next = None\n",
    "\n",
    "n1 = ListNode(1)\n",
    "n1.next = ListNode(2)\n",
    "head = n1\n",
    "\n",
    "while head is not None:\n",
    "    print(head.val)\n",
    "    head = head.next"
   ]
  },
  {
   "cell_type": "code",
   "execution_count": 18,
   "metadata": {},
   "outputs": [
    {
     "name": "stdout",
     "output_type": "stream",
     "text": [
      "0\n",
      "1\n",
      "69\n",
      "2\n"
     ]
    }
   ],
   "source": [
    "#doubly linked list\n",
    "class ListNode:\n",
    "    def __init__(self,val) -> None:\n",
    "        self.val = val\n",
    "        self.prev = None\n",
    "        self.next = None\n",
    "\n",
    "    def prepend(self,node):\n",
    "        if node is not None:\n",
    "            self.prev = node\n",
    "            node.next = self\n",
    "\n",
    "    def append(self,node):\n",
    "        if node is not None:\n",
    "            self.next = node\n",
    "            node.prev = self\n",
    "\n",
    "    def insert(self, node, index):\n",
    "        if node is None:\n",
    "            return\n",
    "        \n",
    "        curr = self\n",
    "\n",
    "        for _ in range(index):\n",
    "            curr = curr.next\n",
    "\n",
    "        prev = curr.prev # take the current nodes previous node\n",
    "\n",
    "        prev.next = node # have that previous node point to the newly inserted node\n",
    "        node.prev = prev # have newly inserted node previous point to previous node\n",
    "        node.next = curr # have the newly insert node next point to current node\n",
    "        \n",
    "        curr.prev = node # have current node's previous point to the newly inserted node\n",
    "\n",
    "n1 = ListNode(1)\n",
    "n1.prepend(ListNode(0))\n",
    "n1.append(ListNode(2))\n",
    "n1.insert(ListNode(69),1)\n",
    "head = n1.prev\n",
    "while head:\n",
    "    print(head.val)\n",
    "    head = head.next"
   ]
  },
  {
   "cell_type": "code",
   "execution_count": 23,
   "metadata": {},
   "outputs": [
    {
     "name": "stdout",
     "output_type": "stream",
     "text": [
      "[1, 2, 3, 4, 5]\n"
     ]
    }
   ],
   "source": [
    "#sorting algo haha\n",
    "\n",
    "arr = [5,2,4,1,3]\n",
    "\n",
    "def selection_sort(arr):\n",
    "    for i in range(len(arr)):\n",
    "        min_idx = i\n",
    "        for j in range(i+1,len(arr)):\n",
    "            if arr[j] < arr[min_idx]:\n",
    "                min_idx = j\n",
    "        arr[i],arr[min_idx] = arr[min_idx],arr[i]\n",
    "    return arr\n",
    "\n",
    "print(selection_sort(arr))"
   ]
  },
  {
   "cell_type": "code",
   "execution_count": 34,
   "metadata": {},
   "outputs": [
    {
     "name": "stdout",
     "output_type": "stream",
     "text": [
      "55\n"
     ]
    }
   ],
   "source": [
    "#fibonacci\n",
    "\n",
    "def fib(n):\n",
    "    if n<=1:\n",
    "        return n\n",
    "    else:\n",
    "        return fib(n-1)+fib(n-2)\n",
    "print(fib(10))"
   ]
  },
  {
   "cell_type": "code",
   "execution_count": 3,
   "metadata": {},
   "outputs": [
    {
     "name": "stdout",
     "output_type": "stream",
     "text": [
      "It's a listnode\n",
      "<class '__main__.ListNode'>\n"
     ]
    }
   ],
   "source": [
    "class ListNode:\n",
    "    pass\n",
    "\n",
    "a = ListNode()\n",
    "type_a = str(type(a))\n",
    "\n",
    "if \"ListNode\" in type_a:\n",
    "    print(\"It's a listnode\")\n",
    "print(type(a))"
   ]
  },
  {
   "cell_type": "code",
   "execution_count": 3,
   "metadata": {},
   "outputs": [
    {
     "name": "stdout",
     "output_type": "stream",
     "text": [
      "2\n"
     ]
    }
   ],
   "source": [
    "def beautifulDays(i, j, k):\n",
    "    \n",
    "    count = 0\n",
    "    \n",
    "    for days in range(i,j+1):\n",
    "        if abs(days-int(str(days)[::-1])) % k ==0:\n",
    "            count+=1\n",
    "    return count\n",
    "\n",
    "print(beautifulDays(20,23,6))"
   ]
  },
  {
   "cell_type": "code",
   "execution_count": 8,
   "metadata": {},
   "outputs": [
    {
     "data": {
      "text/plain": [
       "1"
      ]
     },
     "execution_count": 8,
     "metadata": {},
     "output_type": "execute_result"
    }
   ],
   "source": [
    "3//2"
   ]
  },
  {
   "cell_type": "code",
   "execution_count": 5,
   "metadata": {},
   "outputs": [
    {
     "name": "stdout",
     "output_type": "stream",
     "text": [
      "[1, 0, 1, 2]\n",
      "3\n"
     ]
    }
   ],
   "source": [
    "def findDigits(n):\n",
    "    res = []\n",
    "    int_n = [int(i) for i in str(n)]\n",
    "    print(int_n)\n",
    "\n",
    "    for i in int_n:\n",
    "        if i!=0 and n%i == 0:\n",
    "            res.append(i)\n",
    "    \n",
    "    return len(res)\n",
    "\n",
    "print(findDigits(1012))"
   ]
  },
  {
   "cell_type": "code",
   "execution_count": null,
   "metadata": {},
   "outputs": [],
   "source": [
    "def factorial(n):\n",
    "    if n == 0:\n",
    "        return 1\n",
    "    else:\n",
    "        return n * factorial(n-1)"
   ]
  },
  {
   "cell_type": "code",
   "execution_count": 9,
   "metadata": {},
   "outputs": [
    {
     "name": "stdout",
     "output_type": "stream",
     "text": [
      "['a', 'b', 'c', 'd']\n"
     ]
    }
   ],
   "source": [
    "def merge(a, b):\n",
    "    if not a and not b:\n",
    "        return []\n",
    "\n",
    "    c = sorted(a + b)\n",
    "    res = []\n",
    "    for i in c:\n",
    "        if not res or res[-1] != i:\n",
    "            res.append(i)\n",
    "    return res\n",
    "\n",
    "\n",
    "print(merge([\"a\", \"b\", \"c\"], [\"d\", \"a\"]))\n"
   ]
  },
  {
   "cell_type": "code",
   "execution_count": 1,
   "metadata": {},
   "outputs": [
    {
     "name": "stdout",
     "output_type": "stream",
     "text": [
      "depthMdMsl is Depth\n",
      "stringFromDepthMdMsl is String Depth From\n",
      "stringToDepthMdMsl is String Depth To\n"
     ]
    }
   ],
   "source": [
    "dic = {}\n",
    "with open(\"activity.txt\", \"r\") as f:\n",
    "    lines = f.readlines()\n",
    "    for line in lines:\n",
    "        txt = line.split(\"=\")\n",
    "        key = txt[0]\n",
    "        value = txt[1].replace(\"\\n\", \"\")\n",
    "        dic[key] = value\n",
    "\n",
    "ar = [\n",
    "    \"depth_from_md_msl\",\n",
    "    \"depth_from_tvd_msl\",\n",
    "    \"depth_md_msl\",\n",
    "    \"depth_to_md_msl\",\n",
    "    \"depth_tvd_msl\",\n",
    "    \"string_from_depth_md_msl\",\n",
    "    \"string_to_depth_md_msl\",\n",
    "]\n",
    "\n",
    "processed = []\n",
    "\n",
    "for i in ar:\n",
    "    _ar = i.split(\"_\")\n",
    "    res = []\n",
    "    for idx, j in enumerate(_ar):\n",
    "        if idx == 0:\n",
    "            res.append(j)\n",
    "            continue\n",
    "        res.append(j.capitalize())\n",
    "    processed.append(\"\".join(res))\n",
    "\n",
    "for p in processed:\n",
    "    if p in dic:\n",
    "        print(f\"{p} is {dic[p]}\")\n"
   ]
  },
  {
   "cell_type": "code",
   "execution_count": 7,
   "metadata": {},
   "outputs": [
    {
     "name": "stdout",
     "output_type": "stream",
     "text": [
      "{'a', 'z'}\n"
     ]
    }
   ],
   "source": [
    "a= {\"z\",\"a\"}\n",
    "sorted_set = set(sorted(a))\n",
    "print(sorted_set)"
   ]
  },
  {
   "cell_type": "code",
   "execution_count": 8,
   "metadata": {},
   "outputs": [
    {
     "name": "stdout",
     "output_type": "stream",
     "text": [
      "olleh\n"
     ]
    }
   ],
   "source": [
    "a = \"hello\"\n",
    "print(a[::-1])"
   ]
  },
  {
   "cell_type": "code",
   "execution_count": 14,
   "metadata": {},
   "outputs": [
    {
     "name": "stdout",
     "output_type": "stream",
     "text": [
      "3\n"
     ]
    }
   ],
   "source": [
    "myList = [\n",
    "    25,\n",
    "    \"apple\",\n",
    "    [\"banana\", \"strawberry\", \"apple\", [\"mango\", 13, \"apple\", \"strawberry\"], 25],\n",
    "]\n",
    "\n",
    "\n",
    "def numberOfItems(theList, item):\n",
    "    itemType = type(item)\n",
    "    count = 0\n",
    "\n",
    "    for i in theList:\n",
    "        if itemType == int and i == item:\n",
    "            count += 1\n",
    "        elif itemType == str and i == item:\n",
    "            count += 1\n",
    "        elif type(i) == list:\n",
    "            count += numberOfItems(i, item)\n",
    "    return count\n",
    "\n",
    "\n",
    "print(numberOfItems(myList, \"apple\"))\n",
    "\n",
    "#within a week~~\n"
   ]
  }
 ],
 "metadata": {
  "kernelspec": {
   "display_name": "Python 3",
   "language": "python",
   "name": "python3"
  },
  "language_info": {
   "codemirror_mode": {
    "name": "ipython",
    "version": 3
   },
   "file_extension": ".py",
   "mimetype": "text/x-python",
   "name": "python",
   "nbconvert_exporter": "python",
   "pygments_lexer": "ipython3",
   "version": "3.11.0"
  },
  "orig_nbformat": 4
 },
 "nbformat": 4,
 "nbformat_minor": 2
}
