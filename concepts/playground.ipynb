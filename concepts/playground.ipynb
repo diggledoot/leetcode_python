{
 "cells": [
  {
   "cell_type": "code",
   "execution_count": 13,
   "metadata": {},
   "outputs": [
    {
     "name": "stdout",
     "output_type": "stream",
     "text": [
      "j\n"
     ]
    }
   ],
   "source": [
    "string = \"jtiyoLaqlFgVamXzhubHsSKWxenDkRpPvNfBwZCcdrUQkEIMGnO\"\n",
    "dic = {}\n",
    "\n",
    "def get_first_unique_char(string):\n",
    "    \n",
    "    if string == \"\":\n",
    "        return \"\"\n",
    "    \n",
    "    for char in string:\n",
    "        if char not in dic:\n",
    "            dic[char] = 1\n",
    "            continue\n",
    "        \n",
    "        if char in dic:\n",
    "            dic[char]+=1\n",
    "\n",
    "    for key in dic:\n",
    "        if dic[key] == 1:\n",
    "            return key\n",
    "print(get_first_unique_char(string))"
   ]
  },
  {
   "cell_type": "code",
   "execution_count": 1,
   "metadata": {},
   "outputs": [
    {
     "name": "stdout",
     "output_type": "stream",
     "text": [
      "1\n"
     ]
    }
   ],
   "source": [
    "#Array\n",
    "arr = [1,2,3]\n",
    "print(arr[0])"
   ]
  },
  {
   "cell_type": "code",
   "execution_count": 2,
   "metadata": {},
   "outputs": [
    {
     "name": "stdout",
     "output_type": "stream",
     "text": [
      "5\n"
     ]
    }
   ],
   "source": [
    "#Stack\n",
    "#filo\n",
    "arr = [1,2,3]\n",
    "arr.append(4)\n",
    "arr.append(5)\n",
    "\n",
    "print(arr.pop())"
   ]
  },
  {
   "cell_type": "code",
   "execution_count": 4,
   "metadata": {},
   "outputs": [
    {
     "name": "stdout",
     "output_type": "stream",
     "text": [
      "1\n",
      "2\n",
      "[3, 4, 5, 6]\n"
     ]
    }
   ],
   "source": [
    "#queue\n",
    "#fifo\n",
    "arr = [1,2,3,4]\n",
    "arr.append(5)\n",
    "arr.append(6)\n",
    "print(arr.pop(0))\n",
    "print(arr.pop(0))\n",
    "print(arr)"
   ]
  },
  {
   "cell_type": "code",
   "execution_count": 5,
   "metadata": {},
   "outputs": [
    {
     "name": "stdout",
     "output_type": "stream",
     "text": [
      "{1: 1, 2: 2}\n"
     ]
    }
   ],
   "source": [
    "#hashmap\n",
    "dic = {}\n",
    "dic[1]=1\n",
    "dic[2]=2\n",
    "print(dic)"
   ]
  },
  {
   "cell_type": "code",
   "execution_count": 8,
   "metadata": {},
   "outputs": [
    {
     "name": "stdout",
     "output_type": "stream",
     "text": [
      "2\n",
      "1\n",
      "3\n",
      "None\n"
     ]
    }
   ],
   "source": [
    "#tree\n",
    "\n",
    "class TNode:\n",
    "    def __init__(self, val)->None:\n",
    "        self.val = val\n",
    "        self.left = None\n",
    "        self.right = None\n",
    "\n",
    "root = TNode(1)\n",
    "root.left = TNode(2)\n",
    "root.right = TNode(3)\n",
    "\n",
    "def in_order(node):\n",
    "    if node:\n",
    "        in_order(node.left)\n",
    "        print(node.val)\n",
    "        in_order(node.right)\n",
    "print(in_order(root))"
   ]
  },
  {
   "cell_type": "code",
   "execution_count": 11,
   "metadata": {},
   "outputs": [
    {
     "name": "stdout",
     "output_type": "stream",
     "text": [
      "1\n",
      "2\n"
     ]
    }
   ],
   "source": [
    "#singly linked list\n",
    "class ListNode:\n",
    "    def __init__(self, val) -> None:\n",
    "        self.val = val\n",
    "        self.next = None\n",
    "\n",
    "n1 = ListNode(1)\n",
    "n1.next = ListNode(2)\n",
    "head = n1\n",
    "\n",
    "while head is not None:\n",
    "    print(head.val)\n",
    "    head = head.next"
   ]
  },
  {
   "cell_type": "code",
   "execution_count": 18,
   "metadata": {},
   "outputs": [
    {
     "name": "stdout",
     "output_type": "stream",
     "text": [
      "0\n",
      "1\n",
      "69\n",
      "2\n"
     ]
    }
   ],
   "source": [
    "#doubly linked list\n",
    "class ListNode:\n",
    "    def __init__(self,val) -> None:\n",
    "        self.val = val\n",
    "        self.prev = None\n",
    "        self.next = None\n",
    "\n",
    "    def prepend(self,node):\n",
    "        if node is not None:\n",
    "            self.prev = node\n",
    "            node.next = self\n",
    "\n",
    "    def append(self,node):\n",
    "        if node is not None:\n",
    "            self.next = node\n",
    "            node.prev = self\n",
    "\n",
    "    def insert(self, node, index):\n",
    "        if node is None:\n",
    "            return\n",
    "        \n",
    "        curr = self\n",
    "\n",
    "        for _ in range(index):\n",
    "            curr = curr.next\n",
    "\n",
    "        prev = curr.prev # take the current nodes previous node\n",
    "\n",
    "        prev.next = node # have that previous node point to the newly inserted node\n",
    "        node.prev = prev # have newly inserted node previous point to previous node\n",
    "        node.next = curr # have the newly insert node next point to current node\n",
    "        \n",
    "        curr.prev = node # have current node's previous point to the newly inserted node\n",
    "\n",
    "n1 = ListNode(1)\n",
    "n1.prepend(ListNode(0))\n",
    "n1.append(ListNode(2))\n",
    "n1.insert(ListNode(69),1)\n",
    "head = n1.prev\n",
    "while head:\n",
    "    print(head.val)\n",
    "    head = head.next"
   ]
  }
 ],
 "metadata": {
  "kernelspec": {
   "display_name": "Python 3",
   "language": "python",
   "name": "python3"
  },
  "language_info": {
   "codemirror_mode": {
    "name": "ipython",
    "version": 3
   },
   "file_extension": ".py",
   "mimetype": "text/x-python",
   "name": "python",
   "nbconvert_exporter": "python",
   "pygments_lexer": "ipython3",
   "version": "3.11.0"
  },
  "orig_nbformat": 4
 },
 "nbformat": 4,
 "nbformat_minor": 2
}
