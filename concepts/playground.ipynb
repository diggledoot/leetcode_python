{
  "cells": [
    {
      "cell_type": "code",
      "execution_count": 7,
      "metadata": {},
      "outputs": [
        {
          "name": "stdout",
          "output_type": "stream",
          "text": [
            "c\n"
          ]
        }
      ],
      "source": [
        "string = \"jtiyoLaqlFgVamXzhubHsSKWxenDkRpPvNfBwZCcdrUQkEIMGnO\" #expect j\n",
        "string = \"aacbb\"\n",
        "\n",
        "def get_first_unique_char(string):\n",
        "    \n",
        "    if string == \"\":\n",
        "        return \"\"\n",
        "    \n",
        "    res = None\n",
        "    for char in string:\n",
        "        if res == None:\n",
        "            res = char\n",
        "            continue\n",
        "        if res == char and res is not None:\n",
        "            res = None\n",
        "    return res\n",
        "\n",
        "print(get_first_unique_char(string))"
      ]
    },
    {
      "cell_type": "code",
      "execution_count": 6,
      "metadata": {},
      "outputs": [
        {
          "name": "stdout",
          "output_type": "stream",
          "text": [
            "[1, 2, 5, 43, 345]\n"
          ]
        }
      ],
      "source": [
        "a = [5,43,1]\n",
        "b = [345,2,1]\n",
        "c = a+b\n",
        "c.sort()\n",
        "res = []\n",
        "for num in c:\n",
        "    if num not in res:\n",
        "        res.append(num)\n",
        "print(res)"
      ]
    },
    {
      "cell_type": "code",
      "execution_count": 1,
      "metadata": {},
      "outputs": [
        {
          "name": "stdout",
          "output_type": "stream",
          "text": [
            "1\n"
          ]
        }
      ],
      "source": [
        "#Array\n",
        "arr = [1,2,3]\n",
        "print(arr[0])"
      ]
    },
    {
      "cell_type": "code",
      "execution_count": 7,
      "metadata": {},
      "outputs": [
        {
          "name": "stdout",
          "output_type": "stream",
          "text": [
            "5\n"
          ]
        }
      ],
      "source": [
        "#Stack\n",
        "#filo\n",
        "arr = [1,2,3]\n",
        "arr.append(4)\n",
        "arr.append(5)\n",
        "\n",
        "print(arr.pop())"
      ]
    },
    {
      "cell_type": "code",
      "execution_count": 4,
      "metadata": {},
      "outputs": [
        {
          "name": "stdout",
          "output_type": "stream",
          "text": [
            "1\n",
            "2\n",
            "[3, 4, 5, 6]\n"
          ]
        }
      ],
      "source": [
        "#queue\n",
        "#fifo\n",
        "arr = [1,2,3,4]\n",
        "arr.append(5)\n",
        "arr.append(6)\n",
        "print(arr.pop(0))\n",
        "print(arr.pop(0))\n",
        "print(arr)"
      ]
    },
    {
      "cell_type": "code",
      "execution_count": 5,
      "metadata": {},
      "outputs": [
        {
          "name": "stdout",
          "output_type": "stream",
          "text": [
            "{1: 1, 2: 2}\n"
          ]
        }
      ],
      "source": [
        "#hashmap\n",
        "dic = {}\n",
        "dic[1]=1\n",
        "dic[2]=2\n",
        "print(dic)"
      ]
    },
    {
      "cell_type": "code",
      "execution_count": 8,
      "metadata": {},
      "outputs": [
        {
          "name": "stdout",
          "output_type": "stream",
          "text": [
            "2\n",
            "1\n",
            "3\n",
            "None\n"
          ]
        }
      ],
      "source": [
        "#tree\n",
        "\n",
        "class TNode:\n",
        "    def __init__(self, val)->None:\n",
        "        self.val = val\n",
        "        self.left = None\n",
        "        self.right = None\n",
        "\n",
        "root = TNode(1)\n",
        "root.left = TNode(2)\n",
        "root.right = TNode(3)\n",
        "\n",
        "def in_order(node):\n",
        "    if node:\n",
        "        in_order(node.left)\n",
        "        print(node.val)\n",
        "        in_order(node.right)\n",
        "\n",
        "print(in_order(root))"
      ]
    },
    {
      "cell_type": "code",
      "execution_count": 11,
      "metadata": {},
      "outputs": [
        {
          "name": "stdout",
          "output_type": "stream",
          "text": [
            "1\n",
            "2\n"
          ]
        }
      ],
      "source": [
        "#singly linked list\n",
        "class ListNode:\n",
        "    def __init__(self, val) -> None:\n",
        "        self.val = val\n",
        "        self.next = None\n",
        "\n",
        "n1 = ListNode(1)\n",
        "n1.next = ListNode(2)\n",
        "head = n1\n",
        "\n",
        "while head is not None:\n",
        "    print(head.val)\n",
        "    head = head.next"
      ]
    },
    {
      "cell_type": "code",
      "execution_count": 18,
      "metadata": {},
      "outputs": [
        {
          "name": "stdout",
          "output_type": "stream",
          "text": [
            "0\n",
            "1\n",
            "69\n",
            "2\n"
          ]
        }
      ],
      "source": [
        "#doubly linked list\n",
        "class ListNode:\n",
        "    def __init__(self,val) -> None:\n",
        "        self.val = val\n",
        "        self.prev = None\n",
        "        self.next = None\n",
        "\n",
        "    def prepend(self,node):\n",
        "        if node is not None:\n",
        "            self.prev = node\n",
        "            node.next = self\n",
        "\n",
        "    def append(self,node):\n",
        "        if node is not None:\n",
        "            self.next = node\n",
        "            node.prev = self\n",
        "\n",
        "    def insert(self, node, index):\n",
        "        if node is None:\n",
        "            return\n",
        "        \n",
        "        curr = self\n",
        "\n",
        "        for _ in range(index):\n",
        "            curr = curr.next\n",
        "\n",
        "        prev = curr.prev # take the current nodes previous node\n",
        "\n",
        "        prev.next = node # have that previous node point to the newly inserted node\n",
        "        node.prev = prev # have newly inserted node previous point to previous node\n",
        "        node.next = curr # have the newly insert node next point to current node\n",
        "        \n",
        "        curr.prev = node # have current node's previous point to the newly inserted node\n",
        "\n",
        "n1 = ListNode(1)\n",
        "n1.prepend(ListNode(0))\n",
        "n1.append(ListNode(2))\n",
        "n1.insert(ListNode(69),1)\n",
        "head = n1.prev\n",
        "while head:\n",
        "    print(head.val)\n",
        "    head = head.next"
      ]
    },
    {
      "cell_type": "code",
      "execution_count": 13,
      "metadata": {},
      "outputs": [
        {
          "name": "stdout",
          "output_type": "stream",
          "text": [
            "[0.4, 0.4, 0.2]\n"
          ]
        }
      ],
      "source": [
        "arr = [1,1,0,-1,-1]\n",
        "arr.sort()\n",
        "\n",
        "res = [0]*3\n",
        "arr_len = len(arr)\n",
        "\n",
        "for i in range(arr_len):\n",
        "    if arr[i]>0:\n",
        "        res[0]+=1\n",
        "        continue\n",
        "    if arr[i]<0:\n",
        "        res[1]+=1\n",
        "        continue\n",
        "    if arr[i]==0:\n",
        "        res[2]+=1\n",
        "        continue\n",
        "\n",
        "for i in range(3):\n",
        "    res[i] = res[i]/arr_len\n",
        "    res[i] = \"{:.6f}\".format(res[i])\n",
        "\n",
        "print(res)"
      ]
    },
    {
      "cell_type": "code",
      "execution_count": 17,
      "metadata": {},
      "outputs": [
        {
          "name": "stdout",
          "output_type": "stream",
          "text": [
            "4\n",
            "2\n"
          ]
        }
      ],
      "source": [
        "candles = [4,4,1,3]\n",
        "\n",
        "candles.sort()\n",
        "\n",
        "count = 0\n",
        "max = 0\n",
        "print(len(candles))\n",
        "for i in range(len(candles)):\n",
        "    if candles[len(candles)-i-1] > max:\n",
        "        max = candles[len(candles)-i-1]\n",
        "        count+=1\n",
        "        continue\n",
        "    if candles[len(candles)-i-1] == max:\n",
        "        count+=1\n",
        "        continue\n",
        "    else:\n",
        "        break\n",
        "print(count)"
      ]
    },
    {
      "cell_type": "code",
      "execution_count": 20,
      "metadata": {},
      "outputs": [
        {
          "name": "stdout",
          "output_type": "stream",
          "text": [
            "19:05:45\n"
          ]
        }
      ],
      "source": [
        "def timeConversion(s):\n",
        "    split_s = s.split(\":\")\n",
        "    \n",
        "    hour = int(split_s[0])\n",
        "    minute = int(split_s[1])\n",
        "    second = int(split_s[2][:2])\n",
        "    meridian = split_s[2][2:]\n",
        "    \n",
        "    if meridian == \"PM\":\n",
        "        hour+=12\n",
        "        \n",
        "    return \"{:02d}:{:02d}:{:02d}\".format(hour,minute,second)\n",
        "\n",
        "time_string = \"07:05:45PM\"\n",
        "print(timeConversion(time_string))"
      ]
    },
    {
      "cell_type": "code",
      "execution_count": 34,
      "metadata": {},
      "outputs": [
        {
          "name": "stdout",
          "output_type": "stream",
          "text": [
            "2.00\n",
            "02\n"
          ]
        }
      ],
      "source": [
        "temp = 2\n",
        "print(\"{:.2f}\".format(temp))\n",
        "print(\"{:02d}\".format(temp))"
      ]
    },
    {
      "cell_type": "code",
      "execution_count": 51,
      "metadata": {},
      "outputs": [
        {
          "ename": "TypeError",
          "evalue": "Animal.overload_1() takes 2 positional arguments but 3 were given",
          "output_type": "error",
          "traceback": [
            "\u001b[1;31m---------------------------------------------------------------------------\u001b[0m",
            "\u001b[1;31mTypeError\u001b[0m                                 Traceback (most recent call last)",
            "Cell \u001b[1;32mIn[51], line 24\u001b[0m\n\u001b[0;32m     21\u001b[0m         \u001b[39mreturn\u001b[39;00m \u001b[39mself\u001b[39m\u001b[39m.\u001b[39m_sound \u001b[39m+\u001b[39m extra\n\u001b[0;32m     23\u001b[0m a \u001b[39m=\u001b[39m Animal(\u001b[39m\"\u001b[39m\u001b[39mAnimal Sound 2\u001b[39m\u001b[39m\"\u001b[39m)\n\u001b[1;32m---> 24\u001b[0m a\u001b[39m.\u001b[39;49moverload_1(\u001b[39m\"\u001b[39;49m\u001b[39mhi\u001b[39;49m\u001b[39m\"\u001b[39;49m,\u001b[39m\"\u001b[39;49m\u001b[39mhi\u001b[39;49m\u001b[39m\"\u001b[39;49m)\n",
            "\u001b[1;31mTypeError\u001b[0m: Animal.overload_1() takes 2 positional arguments but 3 were given"
          ]
        }
      ],
      "source": []
    }
  ],
  "metadata": {
    "kernelspec": {
      "display_name": "Python 3",
      "language": "python",
      "name": "python3"
    },
    "language_info": {
      "codemirror_mode": {
        "name": "ipython",
        "version": 3
      },
      "file_extension": ".py",
      "mimetype": "text/x-python",
      "name": "python",
      "nbconvert_exporter": "python",
      "pygments_lexer": "ipython3",
      "version": "3.10.5"
    },
    "orig_nbformat": 4,
    "vscode": {
      "interpreter": {
        "hash": "f1510b3a92008b3f5070fd021fb191c959973f7530ec2caf7a69a1c32cf53c3e"
      }
    }
  },
  "nbformat": 4,
  "nbformat_minor": 2
}
