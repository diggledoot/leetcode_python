{
 "cells": [
  {
   "cell_type": "code",
   "execution_count": 1,
   "metadata": {},
   "outputs": [
    {
     "name": "stdout",
     "output_type": "stream",
     "text": [
      "[0, 1]\n",
      "[0, 2]\n",
      "[0, 3]\n",
      "[0, 4]\n",
      "[0, 5]\n",
      "[1, 2]\n",
      "[1, 3]\n",
      "[1, 4]\n",
      "[1, 5]\n",
      "[2, 3]\n",
      "[2, 4]\n",
      "[2, 5]\n",
      "[3, 4]\n",
      "[3, 5]\n",
      "[4, 5]\n",
      "5\n"
     ]
    }
   ],
   "source": [
    "def divisibleSumPairs(n, k, ar):\n",
    "    ar.sort()\n",
    "    count = 0\n",
    "    for i in range(n):\n",
    "        for j in range(i+1,n):\n",
    "            total = i + j\n",
    "            print([i,j])\n",
    "            if total%k == 0:\n",
    "                count+=1\n",
    "    return count\n",
    "\n",
    "n = 6\n",
    "k = 3\n",
    "ar = [1,3,2,6,1,2]\n",
    "ar.sort()\n",
    "print(divisibleSumPairs(n,k,ar))"
   ]
  },
  {
   "cell_type": "code",
   "execution_count": 3,
   "metadata": {},
   "outputs": [
    {
     "name": "stdout",
     "output_type": "stream",
     "text": [
      "{1: 1, 3: 1, 4: 3, 5: 1}\n",
      "[1, 1]\n",
      "4\n"
     ]
    }
   ],
   "source": [
    "def migratoryBirds(arr):\n",
    "    \n",
    "    dic = {}\n",
    "    \n",
    "    arr.sort()\n",
    "    \n",
    "    for i in arr:\n",
    "        if i not in dic:\n",
    "            dic[i] = 1\n",
    "            continue\n",
    "        if i in dic:\n",
    "            dic[i]+=1\n",
    "    \n",
    "    smallest = None\n",
    "    print(dic)\n",
    "    for k in dic:\n",
    "        \n",
    "        if smallest == None:\n",
    "            smallest = [k,dic[k]]\n",
    "            print(smallest)\n",
    "            continue\n",
    "        \n",
    "        if smallest[1] < dic[k]:\n",
    "            smallest = [k,dic[k]]\n",
    "            continue\n",
    "\n",
    "        if smallest[1] == dic[k] and k<smallest[0]:\n",
    "            smallest = [k,dic[k]] \n",
    "        \n",
    "        \n",
    "    return smallest[0]\n",
    "\n",
    "ar = [1,4,4,4,5,3]\n",
    "print(migratoryBirds(ar))"
   ]
  },
  {
   "cell_type": "code",
   "execution_count": 53,
   "metadata": {},
   "outputs": [
    {
     "name": "stdout",
     "output_type": "stream",
     "text": [
      "[10, 10, 10, 10, 20, 20, 20, 30, 50, None]\n",
      "3\n"
     ]
    }
   ],
   "source": [
    "def sockMerchant(n, ar):\n",
    "    ar.sort()\n",
    "    res = []\n",
    "    \n",
    "    temp = n\n",
    "    while temp%2!=0:\n",
    "        temp+=1\n",
    "    \n",
    "    increment = temp - n\n",
    "\n",
    "    for i in range(increment):\n",
    "        ar.append(None)\n",
    "    \n",
    "    print(ar)\n",
    "    for i in range(0,len(ar)-1,2):\n",
    "        if ar[i] == ar[i-1]:\n",
    "            res.append([ar[i],ar[i-1]])\n",
    "    return len(res)+1\n",
    "\n",
    "ar = [10 ,20 ,20 ,10 ,10 ,30 ,50,10,20]\n",
    "print(sockMerchant(len(ar),ar))"
   ]
  },
  {
   "cell_type": "code",
   "execution_count": 93,
   "metadata": {},
   "outputs": [
    {
     "name": "stdout",
     "output_type": "stream",
     "text": [
      "2\n",
      "0\n"
     ]
    }
   ],
   "source": [
    "def pageCount(n, p):\n",
    "     # Calculate the number of page flips from the front of the book\n",
    "    flips_from_front = p // 2\n",
    "    \n",
    "    # Calculate the number of page flips from the back of the book\n",
    "    if n % 2 == 0:\n",
    "        flips_from_back = (n - p + 1) // 2\n",
    "    else:\n",
    "        flips_from_back = (n - p) // 2\n",
    "        \n",
    "    # Return the minimum number of flips\n",
    "    return min(flips_from_front, flips_from_back)\n",
    "\n",
    "print(pageCount(5,4))"
   ]
  },
  {
   "cell_type": "code",
   "execution_count": 97,
   "metadata": {},
   "outputs": [
    {
     "name": "stdout",
     "output_type": "stream",
     "text": [
      "[[40, 5], [40, 8], [40, 12], [50, 5], [50, 8]]\n",
      "58\n"
     ]
    }
   ],
   "source": [
    "def getMoneySpent(keyboards, drives, b):\n",
    "    \n",
    "    keyboards.sort()\n",
    "    drives.sort()\n",
    "    \n",
    "    res = []\n",
    "    \n",
    "    for i, _ in enumerate(keyboards):\n",
    "        keyboard_cost = keyboards[i]\n",
    "        for j, _ in enumerate(drives):\n",
    "            drives_cost = drives[j]\n",
    "            total = keyboard_cost + drives_cost\n",
    "            if total <= b:\n",
    "                res.append([keyboards[i],drives[j]])\n",
    "    print(res)\n",
    "    array_sum = [i+j for i,j in res]\n",
    "    return  -1 if len(array_sum) == 0 else max(array_sum)\n",
    "\n",
    "print(getMoneySpent([40,50,60],[5,8,12],60))"
   ]
  },
  {
   "cell_type": "code",
   "execution_count": 117,
   "metadata": {},
   "outputs": [
    {
     "name": "stdout",
     "output_type": "stream",
     "text": [
      "[1, 3, 3, 4, 5, 6]\n",
      "7\n",
      "3\n"
     ]
    }
   ],
   "source": [
    "def pickingNumbers(a):\n",
    "    a.sort()\n",
    "    min_val = min(a)\n",
    "    max_val = max(a)\n",
    "    res = []\n",
    "\n",
    "    print(a)\n",
    "    print(max_val+1)\n",
    "    for i in range(min_val, max_val+1):\n",
    "        counter = 0\n",
    "        for j in a:\n",
    "            if j == i or j == i + 1:\n",
    "                counter += 1\n",
    "                res.append(counter)\n",
    "    return max(res)\n",
    "\n",
    "print(pickingNumbers([4 ,6 ,5 ,3 ,3 ,1]))"
   ]
  },
  {
   "cell_type": "code",
   "execution_count": 6,
   "metadata": {},
   "outputs": [
    {
     "name": "stdout",
     "output_type": "stream",
     "text": [
      "False\n",
      "None\n"
     ]
    }
   ],
   "source": [
    "def validParenthese(s):\n",
    "    \n",
    "    while len(s)%2!=0:\n",
    "        s.append(None)\n",
    "    n=len(s)\n",
    "\n",
    "    res = False\n",
    "    temp = s[0]\n",
    "    \n",
    "    print(res)\n",
    "\n",
    "ar = [\"(\",\")\",\"[\",\"]\",\"{\",\"}\"]\n",
    "\n",
    "print(validParenthese(ar))"
   ]
  },
  {
   "cell_type": "code",
   "execution_count": null,
   "metadata": {},
   "outputs": [],
   "source": [
    "\n",
    "height = [1 ,6 ,3 ,5 ,2]\n",
    "doses = 0\n",
    "for h in height:\n",
    "    if h > k:\n",
    "        doses = h - k\n",
    "print(doses)"
   ]
  }
 ],
 "metadata": {
  "kernelspec": {
   "display_name": "Python 3",
   "language": "python",
   "name": "python3"
  },
  "language_info": {
   "codemirror_mode": {
    "name": "ipython",
    "version": 3
   },
   "file_extension": ".py",
   "mimetype": "text/x-python",
   "name": "python",
   "nbconvert_exporter": "python",
   "pygments_lexer": "ipython3",
   "version": "3.11.0"
  },
  "orig_nbformat": 4
 },
 "nbformat": 4,
 "nbformat_minor": 2
}
